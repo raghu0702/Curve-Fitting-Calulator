{
  "nbformat": 4,
  "nbformat_minor": 0,
  "metadata": {
    "colab": {
      "name": "Curve_fitting_calculator.ipynb",
      "provenance": [],
      "collapsed_sections": []
    },
    "kernelspec": {
      "display_name": "Python 3",
      "name": "python3"
    }
  },
  "cells": [
    {
      "cell_type": "code",
      "metadata": {
        "id": "kdQAnfruZaGV"
      },
      "source": [
        "import matplotlib.pyplot as plt\n",
        "import numpy as np\n",
        "import pandas as pd\n",
        "#formulae for curve fitting have been documented from https://www.iiserpune.ac.in/~bhasbapat/phy221_files/curvefitting.pdf"
      ],
      "execution_count": null,
      "outputs": []
    },
    {
      "cell_type": "code",
      "metadata": {
        "id": "TYkQ3-Zf0YDb"
      },
      "source": [
        "#y = ax+b\n",
        "xi = np.array([10,12,15,23,20], dtype=\"float64\")\n",
        "yi = np.array([14,17,23,25,21], dtype = \"float64\")"
      ],
      "execution_count": null,
      "outputs": []
    },
    {
      "cell_type": "code",
      "metadata": {
        "colab": {
          "base_uri": "https://localhost:8080/"
        },
        "id": "j8Gkxxyv0lfk",
        "outputId": "6401be2c-05cd-4a35-fed9-34284c24f4f4"
      },
      "source": [
        "sigma_y, sigma_yx, sigma_x, sigma_x2 = 0,0,0,0\n",
        "for i in range(xi.size):\n",
        "  sigma_x +=xi[i]**2\n",
        "  print(sigma_x)\n",
        "  sigma_x2 += xi[i]**4\n",
        "  sigma_y += (yi[i])\n",
        "  sigma_yx += yi[i]*xi[i]**2\n",
        "print(sigma_y, sigma_yx, sigma_x, sigma_x2)"
      ],
      "execution_count": null,
      "outputs": [
        {
          "output_type": "stream",
          "text": [
            "100.0\n",
            "244.0\n",
            "469.0\n",
            "998.0\n",
            "1398.0\n",
            "100.0 30648.0 1398.0 521202.0\n"
          ],
          "name": "stdout"
        }
      ]
    },
    {
      "cell_type": "code",
      "metadata": {
        "colab": {
          "base_uri": "https://localhost:8080/"
        },
        "id": "FIKn0ePi1MYW",
        "outputId": "0fe4ba51-ce85-4b25-d974-a9553b45ea5f"
      },
      "source": [
        "a = np.array([[5, sigma_x],[sigma_x, sigma_x2]], dtype=\"float64\")\n",
        "d = np.array([[sigma_y], [sigma_yx]], dtype=\"float64\")\n",
        "x = np.matmul(np.linalg.inv(a), d)\n",
        "x"
      ],
      "execution_count": null,
      "outputs": [
        {
          "output_type": "execute_result",
          "data": {
            "text/plain": [
              "array([[14.23298128],\n",
              "       [ 0.02062596]])"
            ]
          },
          "metadata": {
            "tags": []
          },
          "execution_count": 4
        }
      ]
    },
    {
      "cell_type": "code",
      "metadata": {
        "colab": {
          "base_uri": "https://localhost:8080/",
          "height": 265
        },
        "id": "cZ16USL-1cs7",
        "outputId": "d49f4242-2ecc-4c2a-c668-aece001fde7f"
      },
      "source": [
        "plt.scatter(xi, yi)\n",
        "plt.plot(xi, [x[0][0]+x[1][0]*i for i in xi])\n",
        "plt.show()"
      ],
      "execution_count": null,
      "outputs": [
        {
          "output_type": "display_data",
          "data": {
            "image/png": "[encoded data removed]",
            "text/plain": [
              "<Figure size 432x288 with 1 Axes>"
            ]
          },
          "metadata": {
            "tags": [],
            "needs_background": "light"
          }
        }
      ]
    },
    {
      "cell_type": "code",
      "metadata": {
        "id": "rwX_J8awVonw"
      },
      "source": [
        "#y = a0+a1*x+a2*x^2\n",
        "#to plot quadratic eqns, we find coefficients from a matrix method\n",
        "x = np.array([10,12,15,23,20], dtype=\"float64\")"
      ],
      "execution_count": null,
      "outputs": []
    },
    {
      "cell_type": "code",
      "metadata": {
        "colab": {
          "base_uri": "https://localhost:8080/",
          "height": 302
        },
        "id": "0GNK2duG4TlB",
        "outputId": "5cd3430a-71f2-4b6d-fb10-66c9deecbcf8"
      },
      "source": [
        "y = np.array([14,17,23,25,21], dtype = \"float64\")\n",
        "sigma_x, sigma_x2, sigma_x3, sigma_x4 = 0,0,0,0\n",
        "sigma_y, sigma_yx, sigma_yx2 = 0,0,0\n",
        "for i in range(4):\n",
        "  sigma_x +=x[i]\n",
        "  sigma_x2 +=x[i]**2\n",
        "  sigma_x3 +=x[i]**3\n",
        "  sigma_x4 +=x[i]**4\n",
        "  sigma_y +=y[i]\n",
        "  sigma_yx +=y[i]*x[i]\n",
        "  sigma_yx2 +=y[i]*(x[i]**2)\n",
        "print(f\"sigma_x={sigma_x}, sigma_x2={sigma_x2}, sigma_x3={sigma_x3}, sigma_x4={sigma_x4},sigma_y={sigma_y}, sigma_yx={sigma_yx}, sigma_yx2={sigma_yx2}\")\n",
        "a = np.array([[6, sigma_x, sigma_x2], [sigma_x, sigma_x2, sigma_x3], [sigma_x2, sigma_x3, sigma_x4]], dtype=\"float64\")\n",
        "d = np.array([sigma_y, sigma_yx, sigma_yx2], dtype=\"float64\")\n",
        "x1 = np.matmul(np.linalg.inv(a), d)\n",
        "print(\"solution matrix=\", x1)\n",
        "y1 = [x1[0]+x1[1]*i+x1[2]*(i**2) for i in x]\n",
        "plt.scatter(x,y)\n",
        "plt.plot(x, y1)\n",
        "plt.show()"
      ],
      "execution_count": null,
      "outputs": [
        {
          "output_type": "stream",
          "text": [
            "sigma_x=60.0, sigma_x2=998.0, sigma_x3=18270.0, sigma_x4=361202.0,sigma_y=79.0, sigma_yx=1264.0, sigma_yx2=22248.0\n",
            "solution matrix= [-0.16835112  1.8985966  -0.03397364]\n"
          ],
          "name": "stdout"
        },
        {
          "output_type": "display_data",
          "data": {
            "image/png": "[encoded data removed]",
            "text/plain": [
              "<Figure size 432x288 with 1 Axes>"
            ]
          },
          "metadata": {
            "tags": [],
            "needs_background": "light"
          }
        }
      ]
    },
    {
      "cell_type": "code",
      "metadata": {
        "id": "JkGIiSozIk-9"
      },
      "source": [
        "#y = c*e^ax\n",
        "xi = np.array([50,450,780,1200,4400,4800,5300], dtype=\"float64\")\n",
        "yi = np.array([28,30,32,36,51,58,69], dtype=\"float64\")"
      ],
      "execution_count": null,
      "outputs": []
    },
    {
      "cell_type": "code",
      "metadata": {
        "id": "1RXGaZ7TXfcQ",
        "colab": {
          "base_uri": "https://localhost:8080/"
        },
        "outputId": "36eeeb83-eb53-41ab-ac53-54822d4fe421"
      },
      "source": [
        "sigma_y, sigma_yx, sigma_x, sigma_x2 = 0,0,0,0\n",
        "for i in range(5):\n",
        "  sigma_x +=xi[i]\n",
        "  sigma_x2 += xi[i]**2\n",
        "  sigma_y += np.log(yi[i])\n",
        "  sigma_yx += (np.log(yi[i]))*xi[i]\n",
        "print(sigma_y, sigma_yx, sigma_x, sigma_x2)"
      ],
      "execution_count": null,
      "outputs": [
        {
          "output_type": "stream",
          "text": [
            "17.71448236581752 26000.67856157488 6880.0 21613400.0\n"
          ],
          "name": "stdout"
        }
      ]
    },
    {
      "cell_type": "code",
      "metadata": {
        "colab": {
          "base_uri": "https://localhost:8080/"
        },
        "id": "LCn_T9r8Yefr",
        "outputId": "98430a4a-fe75-4e47-8cdf-93d978608308"
      },
      "source": [
        "a = np.array([[5, sigma_x],[sigma_x, sigma_x2]], dtype=\"float64\")\n",
        "d = np.array([[sigma_y], [sigma_yx]], dtype=\"float64\")\n",
        "x = np.matmul(np.linalg.inv(a), d)\n",
        "x"
      ],
      "execution_count": null,
      "outputs": [
        {
          "output_type": "execute_result",
          "data": {
            "text/plain": [
              "array([[3.35874843e+00],\n",
              "       [1.33828523e-04]])"
            ]
          },
          "metadata": {
            "tags": []
          },
          "execution_count": 10
        }
      ]
    },
    {
      "cell_type": "code",
      "metadata": {
        "colab": {
          "base_uri": "https://localhost:8080/"
        },
        "id": "hU-qsB4KZiUp",
        "outputId": "ea25ce60-01cb-44f3-cc06-9272f250519b"
      },
      "source": [
        "x[0][0]= np.exp(x[0][0])\n",
        "x"
      ],
      "execution_count": null,
      "outputs": [
        {
          "output_type": "execute_result",
          "data": {
            "text/plain": [
              "array([[2.87531816e+01],\n",
              "       [1.33828523e-04]])"
            ]
          },
          "metadata": {
            "tags": []
          },
          "execution_count": 11
        }
      ]
    },
    {
      "cell_type": "code",
      "metadata": {
        "colab": {
          "base_uri": "https://localhost:8080/",
          "height": 265
        },
        "id": "AxZOxL0bZuxx",
        "outputId": "e380f835-9f02-418c-8216-4aee088e6253"
      },
      "source": [
        "plt.scatter(xi, yi)\n",
        "plt.plot(xi, [x[0][0]*np.exp(i*x[1][0]) for i in xi])\n",
        "plt.show()"
      ],
      "execution_count": null,
      "outputs": [
        {
          "output_type": "display_data",
          "data": {
            "image/png": "[encoded data removed]",
            "text/plain": [
              "<Figure size 432x288 with 1 Axes>"
            ]
          },
          "metadata": {
            "tags": [],
            "needs_background": "light"
          }
        }
      ]
    },
    {
      "cell_type": "code",
      "metadata": {
        "id": "SsIFqzYpIYhY"
      },
      "source": [
        "#y = a*x^b\n",
        "new_x = np.array([3,4,5,6,7,8,9], dtype=\"float64\")\n",
        "new_y = np.array([11,12,14,18,19,21,23], dtype=\"float64\")"
      ],
      "execution_count": null,
      "outputs": []
    },
    {
      "cell_type": "code",
      "metadata": {
        "colab": {
          "base_uri": "https://localhost:8080/"
        },
        "id": "en3v8YdLJoDU",
        "outputId": "fd8aa677-2e3f-4c71-8ecb-20e200ac408b"
      },
      "source": [
        "sigma_y, sigma_yx, sigma_x, sigma_x2 = 0,0,0,0\n",
        "for i in range(7):\n",
        "  sigma_x += np.log10(new_x[i])\n",
        "  sigma_x2 += (np.log10(new_x[i]))**2\n",
        "  sigma_y += np.log10(new_y[i])\n",
        "  sigma_yx += np.log10(new_y[i])*np.log10(new_x[i])\n",
        "print(sigma_x, sigma_x2, sigma_y, sigma_yx)"
      ],
      "execution_count": null,
      "outputs": [
        {
          "output_type": "stream",
          "text": [
            "5.258733037212814 4.124540348960321 8.484675203691735 6.498677178644271\n"
          ],
          "name": "stdout"
        }
      ]
    },
    {
      "cell_type": "code",
      "metadata": {
        "colab": {
          "base_uri": "https://localhost:8080/"
        },
        "id": "ksdecif8K1uA",
        "outputId": "8f1e21b9-b501-447e-bd7f-0bfb2b6da3fc"
      },
      "source": [
        "a = np.array([[7, sigma_x], [sigma_x, sigma_x2]], dtype=\"float64\")\n",
        "d = np.array([[sigma_y], [sigma_yx]])\n",
        "x = np.matmul(np.linalg.inv(a), d)\n",
        "x[0][0] = 10**x[0][0]\n",
        "x"
      ],
      "execution_count": null,
      "outputs": [
        {
          "output_type": "execute_result",
          "data": {
            "text/plain": [
              "array([[4.72041248],\n",
              "       [0.71629716]])"
            ]
          },
          "metadata": {
            "tags": []
          },
          "execution_count": 15
        }
      ]
    },
    {
      "cell_type": "code",
      "metadata": {
        "colab": {
          "base_uri": "https://localhost:8080/",
          "height": 265
        },
        "id": "JsLhtaugMU40",
        "outputId": "afd1bf1e-128e-40a1-85d6-00579053bb44"
      },
      "source": [
        "plt.scatter(new_x, new_y)\n",
        "plt.plot(new_x, [x[0][0]*(i**x[1][0]) for i in new_x],\"--\", color = \"red\")\n",
        "plt.show()"
      ],
      "execution_count": null,
      "outputs": [
        {
          "output_type": "display_data",
          "data": {
            "image/png": "[encoded data removed]",
            "text/plain": [
              "<Figure size 432x288 with 1 Axes>"
            ]
          },
          "metadata": {
            "tags": [],
            "needs_background": "light"
          }
        }
      ]
    },
    {
      "cell_type": "code",
      "metadata": {
        "id": "ookxn4dN66Pm",
        "colab": {
          "base_uri": "https://localhost:8080/"
        },
        "outputId": "249aa71d-9555-4515-e7fd-8ba46d9f5ade"
      },
      "source": [
        "#Regula-Falsi method- method of finding roots\n",
        "x0, x1 = float(input(\"enter x0:\")), float(input(\"enter x1:\"))\n",
        "f0, f1 = float(input(\"enter f0:\")), float(input(\"enter f1:\")) \n",
        "for i in range(7):\n",
        "  xn = x1 -((x1-x0)/(f1-f0))*f1\n",
        "  print(f\"x{i+2} =\", xn)\n",
        "  fn = xn**4-xn**3-2*xn**2-6*xn-4\n",
        "  print(\"f =\", fn)\n",
        "  if f0*fn < 0:\n",
        "    x1 = xn\n",
        "    f1 = fn\n",
        "    print(\"swapped\")\n",
        "    #swap for new iteration\n",
        "  else:\n",
        "    x0 = xn\n",
        "    f0 = fn\n",
        "    print(\"not swapped\")"
      ],
      "execution_count": null,
      "outputs": [
        {
          "output_type": "stream",
          "text": [
            "enter x0:2\n",
            "enter x1:3\n",
            "enter f0:-16\n",
            "enter f1:14\n",
            "x2 = 2.533333333333333\n",
            "f = -7.106054320987656\n",
            "not swapped\n",
            "x3 = 2.690452169127763\n",
            "f = -1.6983470633786908\n",
            "not swapped\n",
            "x4 = 2.7239410229169314\n",
            "f = -0.3403584069300152\n",
            "not swapped\n",
            "x5 = 2.730493090235787\n",
            "f = -0.06572765910893708\n",
            "not swapped\n",
            "x6 = 2.731752467547917\n",
            "f = -0.012601403073404072\n",
            "not swapped\n",
            "x7 = 2.7319937000773127\n",
            "f = -0.002412605124224143\n",
            "not swapped\n",
            "x8 = 2.7320398773605246\n",
            "f = -0.00046178308495825604\n",
            "not swapped\n"
          ],
          "name": "stdout"
        }
      ]
    },
    {
      "cell_type": "code",
      "metadata": {
        "colab": {
          "base_uri": "https://localhost:8080/"
        },
        "id": "w0JJoVXu5Ngf",
        "outputId": "f2c82b9f-659f-4e49-963a-b7172e56f1f1"
      },
      "source": [
        "#Newton-Raphson Method- method of finding roots\n",
        "new_x0 = float(input(\"enter x0: \"))\n",
        "n = int(input(\"enter iterations: \"))\n",
        "print(f\"f(x0)= {new_x0**3-18}\")\n",
        "x1 = 0\n",
        "for i in range(n):\n",
        "  x1 = new_x0 - (new_x0**3-18)/(3*new_x0**2)\n",
        "  print(f\"x{i+1} = \", x1)\n",
        "  print(f\"f(x{i+1}) = \", x1**3-18)\n",
        "  new_x0 = x1"
      ],
      "execution_count": null,
      "outputs": [
        {
          "output_type": "stream",
          "text": [
            "enter x0: 2.5\n",
            "enter iterations: 4\n",
            "f(x0)= -2.375\n",
            "x1 =  2.6266666666666665\n",
            "f(x1) =  0.12236562962962694\n",
            "x2 =  2.6207547504731146\n",
            "f(x2) =  0.000275205308341242\n",
            "x3 =  2.6207413942769646\n",
            "f(x3) =  1.4025332006895042e-09\n",
            "x4 =  2.6207413942088964\n",
            "f(x4) =  -3.552713678800501e-15\n"
          ],
          "name": "stdout"
        }
      ]
    },
    {
      "cell_type": "code",
      "metadata": {
        "id": "lhHMdMTf_bNy",
        "colab": {
          "base_uri": "https://localhost:8080/"
        },
        "outputId": "55a5946c-40bf-4838-8159-33bafdd000e4"
      },
      "source": [
        "#gauss-seidel method\n",
        "def seidel(a, x ,b): \n",
        "\t#Finding length of a(3)\t \n",
        "\tn = len(a)\t\t\t\t \n",
        "\t# for loop for 3 times as to calculate x, y , z \n",
        "\tfor j in range(0, n):\t\t \n",
        "\t\t# temp variable d to store b[j] \n",
        "\t\td = b[j]\t\t\t\t \n",
        "\t\t\n",
        "\t\t# to calculate respective xi, yi, zi \n",
        "\t\tfor i in range(0, n):\t \n",
        "\t\t\tif(j != i): \n",
        "\t\t\t\td-=a[j][i] * x[i] \n",
        "\t\t# updating the value of our solution\t\t \n",
        "\t\tx[j] = d / a[j][j] \n",
        "\t# returning our updated solution\t\t \n",
        "\treturn x\t \n",
        "\n",
        "# int(input())input as number of variable to be solved\t\t\t\t \n",
        "n = 3\t\t\t\t\t\t\t\n",
        "a = []\t\t\t\t\t\t\t \n",
        "b = []\t\t \n",
        "# initial solution depending on n(here n=3)\t\t\t\t\t \n",
        "x = [0, 0, 0]\t\t\t\t\t\t \n",
        "a = [[4, -1, -1],[-2, 6, 1],[-1, 1, 7]] \n",
        "b = [3,9,-6] \n",
        "print(x) \n",
        "\n",
        "#loop run for m times depending on m the error value \n",
        "for i in range(0, 20):\t\t\t \n",
        "\tx = seidel(a, x, b) \n",
        "\t#print each time the updated solution \n",
        "\tprint(x)\t\t\t\t\t \n"
      ],
      "execution_count": null,
      "outputs": [
        {
          "output_type": "stream",
          "text": [
            "[0, 0, 0]\n",
            "[0.75, 1.75, -1.0]\n",
            "[0.9375, 1.9791666666666667, -1.005952380952381]\n",
            "[0.9933035714285715, 1.9987599206349207, -1.00077947845805]\n",
            "[0.9994951105442178, 1.999961616591081, -1.0000666437209804]\n",
            "[0.9999737432175252, 2.0000023550260053, -1.0000040874012115]\n",
            "[0.9999995669061985, 2.0000005368689346, -1.000000138566105]\n",
            "[1.0000000995757075, 2.0000000562862534, -0.9999999938157923]\n",
            "[1.0000000156176154, 2.000000004175171, -0.999999998365365]\n",
            "[1.0000000014524513, 2.000000000211711, -0.9999999998227513]\n",
            "[1.00000000009724, 2.000000000002872, -0.999999999986519]\n",
            "[1.0000000000040883, 1.999999999999116, -0.9999999999992897]\n",
            "[0.9999999999999567, 1.999999999999867, -0.9999999999999872]\n",
            "[0.9999999999999699, 1.9999999999999878, -1.0000000000000024]\n",
            "[0.9999999999999962, 1.9999999999999991, -1.0000000000000004]\n",
            "[0.9999999999999997, 2.0, -1.0]\n",
            "[1.0, 2.0, -1.0]\n",
            "[1.0, 2.0, -1.0]\n",
            "[1.0, 2.0, -1.0]\n",
            "[1.0, 2.0, -1.0]\n",
            "[1.0, 2.0, -1.0]\n"
          ],
          "name": "stdout"
        }
      ]
    },
    {
      "cell_type": "code",
      "metadata": {
        "colab": {
          "base_uri": "https://localhost:8080/"
        },
        "id": "IYPCAnq4Wg9L",
        "outputId": "6d6a22bb-6b3a-4a87-d8b9-4932d7039416"
      },
      "source": [
        "#divided/forward/backward difference tables\n",
        "n = int(input(\"enter no. of terms: \"))\n",
        "table = [[None for x in range(n)] for x in range(n)]\n",
        "xs= []\n",
        "\n",
        "print(\"Enter xs: \")\n",
        "for i in range(n):\n",
        "  xs.append(float(input()))\n",
        "\n",
        "ys = []\n",
        "print(\"Enter ys: \")\n",
        "for i in range(n):\n",
        "  ys.append(float(input()))\n",
        "for i in range(n):\n",
        "  table[i][0] = ys[i]\n",
        "\n",
        "for j in range(1,n):\n",
        "  for i in range(n-j):\n",
        "    table[i][j] = (table[i+1][j-1] - table[i][j-1])#/(xs[i+j]-xs[i])\n",
        "\n",
        "table_pd = pd.DataFrame(table)\n",
        "print(\"------------------\")\n",
        "print(\"Forward Diff. table: \")\n",
        "print(table_pd)"
      ],
      "execution_count": null,
      "outputs": [
        {
          "output_type": "stream",
          "text": [
            "enter no. of terms: 4\n",
            "Enter xs: \n",
            "0.5\n",
            "0.6\n",
            "0.7\n",
            "0.8\n",
            "Enter ys: \n",
            "1.3254\n",
            "1.1532\n",
            "0.9432\n",
            "1.0514\n",
            "------------------\n",
            "Forward Diff. table: \n",
            "        0       1       2      3\n",
            "0  1.3254 -0.1722 -0.0378  0.356\n",
            "1  1.1532 -0.2100  0.3182    NaN\n",
            "2  0.9432  0.1082     NaN    NaN\n",
            "3  1.0514     NaN     NaN    NaN\n"
          ],
          "name": "stdout"
        }
      ]
    },
    {
      "cell_type": "code",
      "metadata": {
        "id": "hr3ZfazJI6fE",
        "colab": {
          "base_uri": "https://localhost:8080/"
        },
        "outputId": "58dd901c-0c08-4f1a-fc5e-490a17b2b4ae"
      },
      "source": [
        "def newton_interpolation(x, y, xi):\n",
        "    #length/number of datapoints\n",
        "    n = len(x)\n",
        "    #divided difference initialization\n",
        "    fdd = [[None for x in range(n)] for x in range(n)]\n",
        "    #f(X) values at different degrees\n",
        "    yint = [None for x in range(n)]\n",
        "    #error value\n",
        "    ea = [None for x in range(n)]\n",
        "    \n",
        "    #finding divided difference\n",
        "    for i in range(n):\n",
        "        fdd[i][0] = y[i]\n",
        "    for j in range(1,n):\n",
        "        for i in range(n-j):\n",
        "            fdd[i][j] = (fdd[i+1][j-1] - fdd[i][j-1])/(x[i+j]-x[i])\n",
        "    \n",
        "    #just printing dd here\n",
        "    fdd_table = pd.DataFrame(fdd)\n",
        "    print(fdd_table)\n",
        "    \n",
        "    #interpolating xi\n",
        "    xterm = 1\n",
        "    yint[0] = fdd[0][0]\n",
        "    for order in range(1, n):\n",
        "        xterm = xterm * (xi - x[order-1])\n",
        "        yint2 = yint[order-1] + fdd[0][order]*xterm\n",
        "        ea[order-1] = yint2 - yint[order-1]\n",
        "        yint[order] = yint2\n",
        "    \n",
        "    #returning a map for pandas dataframe\n",
        "    return map(lambda yy, ee : [yy, ee], yint, ea)\n",
        "\n",
        "x = [0.5,0.6,0.7,0.8]\n",
        "y = [1.3254,1.1532,0.9432,1.0154]\n",
        "a = newton_interpolation(x, y, 1)\n",
        "df = pd.DataFrame(a, columns=['f(x)','error'])\n",
        "print(df)"
      ],
      "execution_count": null,
      "outputs": [
        {
          "output_type": "stream",
          "text": [
            "        0      1      2          3\n",
            "0  1.3254 -1.722  -1.89  53.333333\n",
            "1  1.1532 -2.100  14.11        NaN\n",
            "2  0.9432  0.722    NaN        NaN\n",
            "3  1.0154    NaN    NaN        NaN\n",
            "     f(x)  error\n",
            "0  1.3254 -0.861\n",
            "1  0.4644 -0.378\n",
            "2  0.0864  3.200\n",
            "3  3.2864    NaN\n"
          ],
          "name": "stdout"
        }
      ]
    },
    {
      "cell_type": "code",
      "metadata": {
        "id": "w9Tt-rQnaLtx",
        "colab": {
          "base_uri": "https://localhost:8080/"
        },
        "outputId": "d4e308d3-acb1-48eb-f621-485eb4f5bc43"
      },
      "source": [
        "#Euler's method\n",
        "x0 = float(input(\"enter x0: \"))\n",
        "y0 = float(input(\"enter y0: \"))\n",
        "h = float(input(\"enter h: \"))\n",
        "n = int(input(\"enter no. of terms: \"))\n",
        "x = np.array([0.2*i for i in range(n)], dtype=\"float64\")\n",
        "y = []\n",
        "for i in range(n):\n",
        "  y1 = (y0+h*(2*x0*y0))\n",
        "  y.append(y1)\n",
        "  y0 = y1\n",
        "  x0 = x[i]\n",
        "print(x)\n",
        "print(y)\n",
        "print([np.exp(x[i]**2) for i in range(n)])"
      ],
      "execution_count": null,
      "outputs": [
        {
          "output_type": "stream",
          "text": [
            "enter x0: 0\n",
            "enter y0: 1\n",
            "enter h: 0.2\n",
            "enter no. of terms: 5\n",
            "[0.  0.2 0.4 0.6 0.8]\n",
            "[1.0, 1.0, 1.08, 1.2528000000000001, 1.5534720000000002]\n",
            "[1.0, 1.0408107741923882, 1.1735108709918103, 1.4333294145603404, 1.8964808793049517]\n"
          ],
          "name": "stdout"
        }
      ]
    },
    {
      "cell_type": "code",
      "metadata": {
        "id": "7-yXhlJtA1nG"
      },
      "source": [
        "def f(x,y):\n",
        "  return (2*x*y+np.exp(x))/(x**2-x*np.exp(x))"
      ],
      "execution_count": null,
      "outputs": []
    },
    {
      "cell_type": "code",
      "metadata": {
        "colab": {
          "base_uri": "https://localhost:8080/"
        },
        "id": "pPlggpK-HbV1",
        "outputId": "ab7cb7ff-c027-43c2-efcb-f518ef50b1cf"
      },
      "source": [
        "y_mod = []\n",
        "for i in range(n):\n",
        "  y_1 = y0+(h/2)*(f(x[i], y0)+f(x[i]+h, y0+h*(f(x[i], y0))))\n",
        "  y_mod.append(y_1)\n",
        "  y0 = y_1\n",
        "print(y_mod)"
      ],
      "execution_count": null,
      "outputs": [
        {
          "output_type": "stream",
          "text": [
            "[-2.0241850842847136, -2.0611263431902405, -2.0872897982337477, -2.1032099027426656, -2.109783945571798]\n"
          ],
          "name": "stdout"
        }
      ]
    },
    {
      "cell_type": "code",
      "metadata": {
        "id": "R495ndqfUXVn",
        "colab": {
          "base_uri": "https://localhost:8080/"
        },
        "outputId": "346efcb5-e863-4219-c915-330a4d0f705d"
      },
      "source": [
        "#runge kutta 4th order\n",
        "x0 = float(input(\"enter x0: \"))\n",
        "y0 = float(input(\"enter y0: \"))\n",
        "h = float(input(\"enter h: \"))\n",
        "n = int(input(\"enter no. of terms: \"))\n",
        "x = np.array([1.2,1.4,1.6,1.8,2.0], dtype=\"float64\")\n",
        "\n",
        "y_4 = []\n",
        "y = y0\n",
        "for i in range(n):\n",
        "  k1 = h*f(x0,y)\n",
        "  k2 = h*f(x0+h/2, y+k1/2)\n",
        "  k3 = h*f(x0+h/2, y+k2/2)\n",
        "  k4 = h*f(x0+h, y+k3)\n",
        "  y_new = (y+(k1+2*(k2+k3)+k4)/6)\n",
        "  y_4.append(y_new)\n",
        "  y = y_new\n",
        "  x0 = x[i]\n",
        "  print(k1,k2,k3,k4)\n",
        "\n",
        "print(y_4)"
      ],
      "execution_count": null,
      "outputs": [
        {
          "output_type": "stream",
          "text": [
            "enter x0: 1\n",
            "enter y0: 0\n",
            "enter h: 0.2\n",
            "enter no. of terms: 5\n",
            "-0.3163953413738653 -0.2536191329988301 -0.2602126975919982 -0.21190705880475602\n",
            "-0.21207403463314126 -0.17657615767051005 -0.17957264835466746 -0.1520616736668598\n",
            "-0.1520868461533057 -0.13135101351216122 -0.13274189177961201 -0.11647337537869332\n",
            "-0.11646751637504973 -0.1038940325773595 -0.1045603632117108 -0.09453706817470654\n",
            "-0.09452842123222881 -0.08658822234793045 -0.08692003906390955 -0.08047179326201769\n",
            "[-0.25932767689337965, -0.4387332302851057, -0.5715242356376966, -0.6761764649923461, -0.7631792545453339]\n"
          ],
          "name": "stdout"
        }
      ]
    },
    {
      "cell_type": "code",
      "metadata": {
        "id": "ZCZGESHSkNlK"
      },
      "source": [
        "#statistics beginning\n",
        "############################\n",
        "def sd(x):\n",
        "  sum,mean = 0,0\n",
        "  for i in x:\n",
        "    mean+=i/len(x)\n",
        "  for i in x:\n",
        "    sum+=(i-mean)**2\n",
        "  sd = sum/(len(x)-1)\n",
        "  return sd**0.5"
      ],
      "execution_count": null,
      "outputs": []
    },
    {
      "cell_type": "code",
      "metadata": {
        "id": "Ncb2C8pxoy_Z"
      },
      "source": [
        "from statistics import *"
      ],
      "execution_count": null,
      "outputs": []
    },
    {
      "cell_type": "code",
      "metadata": {
        "id": "2_9tupZlqXrB"
      },
      "source": [
        "def covariance(x,y):\n",
        "  x_mean, y_mean = mean(x), mean(y)\n",
        "  sum = 0\n",
        "  for i in range(len(x)):\n",
        "    sum+=(x[i]-x_mean)*(y[i]-y_mean)\n",
        "  return sum/(len(x)-1)"
      ],
      "execution_count": null,
      "outputs": []
    },
    {
      "cell_type": "code",
      "metadata": {
        "id": "6x_EBhWRrpO3"
      },
      "source": [
        "def correlation(x,y):\n",
        "  cov = covariance(x,y)\n",
        "  return cov/(sd(x)*sd(y))"
      ],
      "execution_count": null,
      "outputs": []
    },
    {
      "cell_type": "code",
      "metadata": {
        "colab": {
          "base_uri": "https://localhost:8080/"
        },
        "id": "vLlWUD8qsGh0",
        "outputId": "60a5505a-4aa2-4e7e-db91-567fd0931d41"
      },
      "source": [
        "a = [10,12,13,12,16,15]\n",
        "b = [40,38,43,45,37,43]\n",
        "print(f\"sd(a)={sd(a)} \\nsd(b) = {sd(b)}\\ncov(a,b)={covariance(a,b)}\\ncorr(a,b)={correlation(a,b)}\")"
      ],
      "execution_count": null,
      "outputs": [
        {
          "output_type": "stream",
          "text": [
            "sd(a)=2.1908902300206643 \n",
            "sd(b) = 3.1622776601683795\n",
            "cov(a,b)=-1.2\n",
            "corr(a,b)=-0.17320508075688773\n"
          ],
          "name": "stdout"
        }
      ]
    },
    {
      "cell_type": "code",
      "metadata": {
        "id": "E3bqnvgd3li_"
      },
      "source": [
        "def regression(x,y):\n",
        "  corr = correlation(x,y)\n",
        "  b_yx = corr*sd(y)/sd(x)\n",
        "  b_xy = corr*sd(x)/sd(y)\n",
        "  print(f\"regression coefficient b(yx):{b_yx}\\nregression coefficient b(xy):{b_xy}\")"
      ],
      "execution_count": null,
      "outputs": []
    },
    {
      "cell_type": "code",
      "metadata": {
        "colab": {
          "base_uri": "https://localhost:8080/"
        },
        "id": "2Am0Ep3Q49Vm",
        "outputId": "706b03cd-3167-4e7d-e06d-276ca6dcec2e"
      },
      "source": [
        "regression(a,b)"
      ],
      "execution_count": null,
      "outputs": [
        {
          "output_type": "stream",
          "text": [
            "regression coefficient b(yx):-0.25000000000000006\n",
            " regression coefficient b(xy):-0.11999999999999998\n"
          ],
          "name": "stdout"
        }
      ]
    },
    {
      "cell_type": "code",
      "metadata": {
        "colab": {
          "base_uri": "https://localhost:8080/",
          "height": 807
        },
        "id": "eLg-cJHV1ZTs",
        "outputId": "fb1aef9c-84cb-4334-cde2-a73eb9cc991c"
      },
      "source": [
        "x = np.array([0,200,300,500], dtype='float64')\n",
        "y = np.array([0.02,0.016,0.0145,0.012], dtype = \"float64\")\n",
        "plt.plot(x,y)\n",
        "plt.xlabel(\"time, h\")\n",
        "plt.ylabel(\"conc., M\")\n",
        "plt.show()\n",
        "plt.plot(x,np.log(y), color=\"orange\")\n",
        "plt.xlabel(\"time, h\")\n",
        "plt.ylabel(\"conc., M\")\n",
        "plt.show()\n",
        "plt.plot(x, 1/y, color=\"green\")\n",
        "plt.xlabel(\"time, h\")\n",
        "plt.ylabel(\"conc., M\")\n",
        "plt.show()"
      ],
      "execution_count": null,
      "outputs": [
        {
          "output_type": "display_data",
          "data": {
            "image/png": "[encoded data removed]",
            "text/plain": [
              "<Figure size 432x288 with 1 Axes>"
            ]
          },
          "metadata": {
            "tags": [],
            "needs_background": "light"
          }
        },
        {
          "output_type": "display_data",
          "data": {
            "image/png": "[encoded data removed]",
            "text/plain": [
              "<Figure size 432x288 with 1 Axes>"
            ]
          },
          "metadata": {
            "tags": [],
            "needs_background": "light"
          }
        },
        {
          "output_type": "display_data",
          "data": {
            "image/png": "[encoded data removed]",
            "text/plain": [
              "<Figure size 432x288 with 1 Axes>"
            ]
          },
          "metadata": {
            "tags": [],
            "needs_background": "light"
          }
        }
      ]
    }
  ]
}